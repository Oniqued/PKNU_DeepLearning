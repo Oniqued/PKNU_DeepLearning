{
  "cells": [
    {
      "cell_type": "code",
      "execution_count": null,
      "metadata": {
        "id": "SyOZjqrBne5S"
      },
      "outputs": [],
      "source": [
        "%matplotlib inline"
      ]
    },
    {
      "cell_type": "markdown",
      "metadata": {
        "id": "Mc9hq78qne5W"
      },
      "source": [
        "\n",
        "분류기(Classifier) 학습하기\n",
        "============================\n",
        "\n",
        "이 강좌는 PyTorch [공식 튜토리얼](https://pytorch.org/tutorials/beginner/blitz/cifar10_tutorial.html)의 [번역본](https://tutorials.pytorch.kr/beginner/blitz/cifar10_tutorial.html#sphx-glr-beginner-blitz-cifar10-tutorial-py)을 부분적으로 수정한 것이다.\n",
        "\n",
        "\n",
        "\n",
        "데이터\n",
        "------------------------\n",
        "\n",
        "일반적으로 이미지나 텍스트, 오디오나 비디오 데이터를 다룰 때는 표준 Python 패키지를\n",
        "이용하여 NumPy 배열로 불러오면 된다. 그 후 그 배열을 ``torch.Tensor``로 변환한다.\n",
        "\n",
        "-  이미지는 PIL(Pillow)나 OpenCV 같은 패키지가 유용하다.\n",
        "-  오디오를 처리할 때는 SciPy와 LibROSA가 유용하며,\n",
        "-  텍스트의 경우에는 그냥 Python이나 Cython을 사용해도 되고, NLTK나 SpaCy도\n",
        "   유용하다.\n",
        "\n",
        "특별히 영상 분야를 위한 ``torchvision`` 패키지가 만들어져 있는데,\n",
        "여기에는 ImageNet이나 CIFAR10, MNIST 등과 같이 일반적으로 사용하는 데이터셋을 위한\n",
        "데이터 로더(data loader), 즉 ``torchvision.datasets``과 이미지용 데이터 변환기\n",
        "(data transformer), 즉 ``torch.utils.data.DataLoader``가 포함되어 있다.\n",
        "\n",
        "이러한 기능은 매우 편리하며, 매번 유사한 코드를 반복해서\n",
        "작성하는 것을 피할 수 있다.\n",
        "\n",
        "이 튜토리얼에서는 CIFAR10 데이터셋을 사용한다. CIFAR10 데이터셋에는 다음과 같은 10개개 부류(class)의 이미지들이 있다: '비행기(airplane)', '자동차(automobile)', '새(bird)', '고양이(cat)',\n",
        "'사슴(deer)', '개(dog)', '개구리(frog)', '말(horse)', '배(ship)', '트럭(truck)'.\n",
        "\n",
        "CIFAR10에 포함된 이미지의 크기는 3x32x32로, 이는 32x32 픽셀 크기의 이미지가\n",
        "3개 채널(channel)의 색상로 이뤄져 있다는 것을 뜻한다.\n",
        "\n",
        "<img src=\"https://pytorch.org/tutorials/_images/cifar10.png\" width=\"600\" height=\"420\">\n",
        "\n",
        "\n",
        "이미지 분류기 학습하기\n",
        "----------------------------\n",
        "\n",
        "이하에서는 다음과 같은 단계로 이미지 분류기(classifier)를 학습해본다:\n",
        "\n",
        "1. ``torchvision``을 사용하여 CIFAR10의 학습용/시험용 데이터셋을\n",
        "   불러오고, 정규화(nomarlizing)한다.\n",
        "2. 합성곱 신경망(Convolution Neural Network)을 정의한다.\n",
        "3. 손실 함수를 정의한다.\n",
        "4. 학습용 데이터를 사용하여 신경망을 학습한다.\n",
        "5. 시험용 데이터를 사용하여 신경망을 검사한다."
      ]
    },
    {
      "cell_type": "markdown",
      "source": [
        "## CIFAR10을 불러오고 정규화하기\n",
        "\n",
        "``torchvision``을 사용하여 매우 쉽게 CIFAR10을 불러올 수 있다."
      ],
      "metadata": {
        "id": "OpYBEnGo7tEv"
      }
    },
    {
      "cell_type": "code",
      "execution_count": null,
      "metadata": {
        "id": "LlryI42Gne5Z"
      },
      "outputs": [],
      "source": [
        "import torch\n",
        "import torchvision\n",
        "import torchvision.transforms as transforms"
      ]
    },
    {
      "cell_type": "markdown",
      "metadata": {
        "id": "cp7wvQpfne5a"
      },
      "source": [
        "torchvision 데이터셋의 출력(output)은 [0, 1] 범위를 갖는 PILImage 이미지이다.\n",
        "이를 [-1, 1]의 범위로 정규화된 Tensor로 변환한다.\n",
        "\n",
        "**Note:** 만약 Windows 환경에서 `BrokenPipeError`가 발생한다면,\n",
        "`torch.utils.data.DataLoader()`의 `num_worker`를 0으로 설정해보라.\n",
        "\n"
      ]
    },
    {
      "cell_type": "code",
      "execution_count": null,
      "metadata": {
        "id": "eKQJKwoRne5b",
        "colab": {
          "base_uri": "https://localhost:8080/"
        },
        "outputId": "f90f4762-ae6c-4ba7-f15e-ba96a545bf33"
      },
      "outputs": [
        {
          "output_type": "stream",
          "name": "stdout",
          "text": [
            "Files already downloaded and verified\n",
            "Files already downloaded and verified\n"
          ]
        }
      ],
      "source": [
        "transform = transforms.Compose(\n",
        "    [transforms.ToTensor(),\n",
        "     # transforms.Resize((32,32)),  # if necessary\n",
        "     transforms.Normalize((0.5, 0.5, 0.5), (0.5, 0.5, 0.5))  # normalizing by subtracting mean=0.5 and dividing std= 0.5 for each channel\n",
        "    ]\n",
        "    )\n",
        "\n",
        "batch_size = 4\n",
        "\n",
        "trainset = torchvision.datasets.CIFAR10(root='./data', train=True,\n",
        "                                        download=True, transform=transform)\n",
        "trainloader = torch.utils.data.DataLoader(trainset, batch_size=batch_size,\n",
        "                                          shuffle=True, num_workers=2)\n",
        "\n",
        "testset = torchvision.datasets.CIFAR10(root='./data', train=False,\n",
        "                                       download=True, transform=transform)\n",
        "testloader = torch.utils.data.DataLoader(testset, batch_size=batch_size,\n",
        "                                         shuffle=False, num_workers=2) # num_workers=2 -> thread를 2개 둔다\n",
        "\n",
        "classes = ('plane', 'car', 'bird', 'cat',\n",
        "           'deer', 'dog', 'frog', 'horse', 'ship', 'truck')"
      ]
    },
    {
      "cell_type": "markdown",
      "metadata": {
        "id": "Q-v3J10Pne5b"
      },
      "source": [
        "학습용 이미지 몇 개를 살펴보자.\n",
        "\n"
      ]
    },
    {
      "cell_type": "code",
      "execution_count": null,
      "metadata": {
        "id": "5-jxgDEFne5b",
        "colab": {
          "base_uri": "https://localhost:8080/",
          "height": 735
        },
        "outputId": "f53c2335-2040-42ae-b7cc-d7ebfe9c67a9"
      },
      "outputs": [
        {
          "output_type": "stream",
          "name": "stdout",
          "text": [
            "torch.Size([4, 3, 32, 32])\n",
            "tensor([[[-0.5608, -0.4353, -0.2941,  ..., -0.3961, -0.3333, -0.2784],\n",
            "         [-0.3333, -0.2706, -0.2000,  ..., -0.2392, -0.2549, -0.2392],\n",
            "         [-0.2235, -0.1765, -0.1686,  ..., -0.2627, -0.2706, -0.2784],\n",
            "         ...,\n",
            "         [ 0.1922,  0.2471,  0.2471,  ...,  0.3569,  0.2471,  0.2392],\n",
            "         [ 0.1216,  0.1843,  0.2157,  ...,  0.2314,  0.3255,  0.3412],\n",
            "         [ 0.1765,  0.1451,  0.1843,  ...,  0.1922,  0.4118,  0.5608]],\n",
            "\n",
            "        [[-0.6471, -0.5373, -0.4118,  ..., -0.5373, -0.4824, -0.4196],\n",
            "         [-0.4275, -0.3882, -0.3412,  ..., -0.4667, -0.4824, -0.4745],\n",
            "         [-0.3490, -0.3255, -0.3255,  ..., -0.4824, -0.4902, -0.5059],\n",
            "         ...,\n",
            "         [-0.0431,  0.0118,  0.0118,  ...,  0.0745, -0.0196, -0.0275],\n",
            "         [-0.1059, -0.0510, -0.0275,  ..., -0.0431,  0.0902,  0.1451],\n",
            "         [-0.0353, -0.0667, -0.0745,  ..., -0.0039,  0.2863,  0.4667]],\n",
            "\n",
            "        [[-0.5843, -0.4667, -0.3333,  ..., -0.5216, -0.4667, -0.4039],\n",
            "         [-0.3647, -0.3255, -0.2627,  ..., -0.4431, -0.4588, -0.4431],\n",
            "         [-0.2863, -0.2549, -0.2549,  ..., -0.4824, -0.4902, -0.5059],\n",
            "         ...,\n",
            "         [-0.0588,  0.0039,  0.0039,  ..., -0.0039, -0.0902, -0.0824],\n",
            "         [-0.1216, -0.0431, -0.0275,  ..., -0.1137,  0.0510,  0.1294],\n",
            "         [-0.0275, -0.0353, -0.0510,  ..., -0.0824,  0.2863,  0.5216]]])\n",
            "tensor(0.0089)\n",
            "tensor(0.2841)\n",
            "tensor(-0.8353)\n",
            "tensor(0.7333)\n"
          ]
        },
        {
          "output_type": "display_data",
          "data": {
            "text/plain": [
              "<Figure size 640x480 with 1 Axes>"
            ],
            "image/png": "[encoded data removed]"
          },
          "metadata": {}
        },
        {
          "output_type": "stream",
          "name": "stdout",
          "text": [
            "frog  frog  cat   truck\n"
          ]
        }
      ],
      "source": [
        "import matplotlib.pyplot as plt\n",
        "import numpy as np\n",
        "\n",
        "# 이미지를 보여주기 위한 함수\n",
        "\n",
        "def imshow(img):\n",
        "    img = img / 2 + 0.5     # denormalize -> 이렇게 하면 0~1사이의 실수가 나옴 \n",
        "    npimg = img.numpy()     # from tensor to array / pyplot이 tensor는 인식 못해서 numpy로 변환해주어야함함\n",
        "    plt.imshow(np.transpose(npimg, (1, 2, 0)))  # reordering of dimensions into [height, width, channels]\n",
        "    plt.show()\n",
        "\n",
        "\n",
        "# 학습용 이미지를 무작위로 가져오기\n",
        "dataiter = iter(trainloader) \n",
        "images, labels = dataiter.__next__()\n",
        "\n",
        "print(images.shape) # 4 = batch_size -> 4차원(4장의 이미지지) / 3 -> 3차원 배열 \n",
        "print(images[0])\n",
        "print(images[0].mean())\n",
        "print(images[0].std())\n",
        "print(images[0].min())\n",
        "print(images[0].max())\n",
        "\n",
        "# 이미지 보여주기\n",
        "imshow(torchvision.utils.make_grid(images)) \n",
        "# 정답(label) 출력\n",
        "print(' '.join(f'{classes[labels[j]]:5s}' for j in range(batch_size)))"
      ]
    },
    {
      "cell_type": "markdown",
      "metadata": {
        "id": "L6P22FkYne5c"
      },
      "source": [
        "## 합성곱 신경망(Convolution Neural Network) 정의하기"
      ]
    },
    {
      "cell_type": "code",
      "execution_count": null,
      "metadata": {
        "id": "SG11EjXane5c",
        "colab": {
          "base_uri": "https://localhost:8080/"
        },
        "outputId": "129b721f-fc4b-44da-d740-a670a7d93dbd"
      },
      "outputs": [
        {
          "output_type": "stream",
          "name": "stdout",
          "text": [
            "----------------------------------------------------------------\n",
            "        Layer (type)               Output Shape         Param #\n",
            "================================================================\n",
            "            Conv2d-1            [-1, 6, 28, 28]             456\n",
            "         MaxPool2d-2            [-1, 6, 14, 14]               0\n",
            "            Conv2d-3           [-1, 16, 10, 10]           2,416\n",
            "         MaxPool2d-4             [-1, 16, 5, 5]               0\n",
            "            Linear-5                  [-1, 120]          48,120\n",
            "            Linear-6                   [-1, 84]          10,164\n",
            "            Linear-7                   [-1, 10]             850\n",
            "================================================================\n",
            "Total params: 62,006\n",
            "Trainable params: 62,006\n",
            "Non-trainable params: 0\n",
            "----------------------------------------------------------------\n",
            "Input size (MB): 0.01\n",
            "Forward/backward pass size (MB): 0.06\n",
            "Params size (MB): 0.24\n",
            "Estimated Total Size (MB): 0.31\n",
            "----------------------------------------------------------------\n",
            "None\n"
          ]
        }
      ],
      "source": [
        "import torch.nn as nn\n",
        "import torch.nn.functional as F # 단지 함수의 역할만 함. \n",
        "\n",
        "\n",
        "class Net(nn.Module):\n",
        "    def __init__(self):\n",
        "        super().__init__()\n",
        "        self.conv1 = nn.Conv2d(3, 6, 5)   # (in_channels /입력으로 들어오는 채널(흑백일때는 1) , out_channels / 커널의 갯수 6개, kernel_size / 각각 커널의 사이즈는 5*5, stride=1, padding=0)\n",
        "        self.pool = nn.MaxPool2d(2, 2)    # kernel_size=2, stride=2, padding=0\n",
        "        self.conv2 = nn.Conv2d(6, 16, 5) # output이 6이었으니 input도 6이어야 함\n",
        "        self.fc1 = nn.Linear(16 * 5 * 5, 120)  # 1열로 늘였을때, 길이가 얼마가 되는가를 계산해야함//16 channel 5*5 image.  Why 5*5? -> (중요한 부분)마지막 conv레이어에서 output 채널의 갯수가 16이라 16 .. \n",
        "        # 32 * 32 -> 5 * 5 커널 사이즈로 분할 하면 28 * 28 -> 2 * 2 maxPool을 적용 하면 14 * 14로 감소 -> 다시 5 * 5 커널 분할 ... 10 * 10 -> 2 * 2 maxPool 적용시, 5 * 5가 됨. \n",
        "        # 따라서, 최종적으로 만들어지는 featuremap의 사이즈는 16 * 5 * 5\n",
        "        self.fc2 = nn.Linear(120, 84)\n",
        "        self.fc3 = nn.Linear(84, 10) # 이미지의 종류가 10종류 이므로\n",
        "\n",
        "    def forward(self, x): \n",
        "        x = self.pool(F.relu(self.conv1(x)))\n",
        "        x = self.pool(F.relu(self.conv2(x)))\n",
        "        x = torch.flatten(x, 1) # 배치를 제외한 모든 차원을 평탄화(flatten). start_dim = 1\n",
        "        x = F.relu(self.fc1(x))\n",
        "        x = F.relu(self.fc2(x))\n",
        "        x = self.fc3(x)\n",
        "        return x\n",
        "\n",
        "\n",
        "net = Net()\n",
        "\n",
        "from torchsummary import summary\n",
        "print(summary(net, (3, 32, 32)))"
      ]
    },
    {
      "cell_type": "markdown",
      "metadata": {
        "id": "epGX5dOone5d"
      },
      "source": [
        "## 손실 함수와 Optimizer 정의하기\n",
        "\n",
        "교차 엔트로피 손실(Cross-Entropy loss)과 모멘텀(momentum) 값을 갖는 SGD를 사용한다.\n",
        "\n"
      ]
    },
    {
      "cell_type": "code",
      "execution_count": null,
      "metadata": {
        "id": "-Q6GnLdxne5d"
      },
      "outputs": [],
      "source": [
        "import torch.optim as optim\n",
        "\n",
        "criterion = nn.CrossEntropyLoss()\n",
        "optimizer = optim.SGD(net.parameters(), lr=0.001, momentum=0.9) # 모멘텀: 지금까지 어디서 왔는지를 더 중시한다. "
      ]
    },
    {
      "cell_type": "markdown",
      "source": [
        "모멘텀 $\\alpha$를 이용한 SGD는 다음과 같이 동작한다.\n",
        "\n",
        "$v \\leftarrow \\alpha v - \\rho \\frac{\\partial L}{\\partial W}$\n",
        "\n",
        "$W \\leftarrow W + v$\n",
        "\n",
        "$v$의 초기값은 0이며, 과거의 gradient 값을 누적하는 효과를 가지며, $\\alpha$가 클수록 누적 효과가 크다."
      ],
      "metadata": {
        "id": "Th3OAp83l11l"
      }
    },
    {
      "cell_type": "markdown",
      "metadata": {
        "id": "6oT9cypvne5e"
      },
      "source": [
        "## 신경망 학습하기\n",
        "\n",
        "데이터를 반복해서 신경망에 입력으로 제공하고, 최적화(Optimize)한다.\n",
        "\n"
      ]
    },
    {
      "cell_type": "code",
      "execution_count": null,
      "metadata": {
        "id": "ZFgjSrN6ne5e",
        "colab": {
          "base_uri": "https://localhost:8080/"
        },
        "outputId": "5849814c-bbba-4393-abff-396485db48e0"
      },
      "outputs": [
        {
          "output_type": "stream",
          "name": "stdout",
          "text": [
            "[1,  2000] loss: 2.204\n",
            "[1,  4000] loss: 1.885\n",
            "[1,  6000] loss: 1.671\n",
            "[1,  8000] loss: 1.583\n",
            "[1, 10000] loss: 1.519\n",
            "[1, 12000] loss: 1.475\n",
            "[2,  2000] loss: 1.395\n",
            "[2,  4000] loss: 1.366\n",
            "[2,  6000] loss: 1.342\n",
            "[2,  8000] loss: 1.318\n",
            "[2, 10000] loss: 1.312\n",
            "[2, 12000] loss: 1.288\n",
            "[3,  2000] loss: 1.201\n",
            "[3,  4000] loss: 1.231\n",
            "[3,  6000] loss: 1.227\n",
            "[3,  8000] loss: 1.181\n",
            "[3, 10000] loss: 1.194\n",
            "[3, 12000] loss: 1.172\n",
            "[4,  2000] loss: 1.099\n",
            "[4,  4000] loss: 1.099\n",
            "[4,  6000] loss: 1.108\n",
            "[4,  8000] loss: 1.103\n",
            "[4, 10000] loss: 1.103\n",
            "[4, 12000] loss: 1.086\n",
            "[5,  2000] loss: 1.014\n",
            "[5,  4000] loss: 1.005\n",
            "[5,  6000] loss: 1.019\n",
            "[5,  8000] loss: 1.040\n",
            "[5, 10000] loss: 1.037\n",
            "[5, 12000] loss: 1.024\n",
            "[6,  2000] loss: 0.951\n",
            "[6,  4000] loss: 0.950\n",
            "[6,  6000] loss: 0.968\n",
            "[6,  8000] loss: 0.968\n",
            "[6, 10000] loss: 0.961\n",
            "[6, 12000] loss: 0.968\n",
            "[7,  2000] loss: 0.876\n",
            "[7,  4000] loss: 0.896\n",
            "[7,  6000] loss: 0.906\n",
            "[7,  8000] loss: 0.919\n",
            "[7, 10000] loss: 0.923\n",
            "[7, 12000] loss: 0.949\n",
            "[8,  2000] loss: 0.839\n",
            "[8,  4000] loss: 0.851\n",
            "[8,  6000] loss: 0.859\n",
            "[8,  8000] loss: 0.877\n",
            "[8, 10000] loss: 0.916\n",
            "[8, 12000] loss: 0.893\n",
            "[9,  2000] loss: 0.786\n",
            "[9,  4000] loss: 0.804\n",
            "[9,  6000] loss: 0.838\n",
            "[9,  8000] loss: 0.867\n",
            "[9, 10000] loss: 0.865\n",
            "[9, 12000] loss: 0.871\n",
            "[10,  2000] loss: 0.748\n",
            "[10,  4000] loss: 0.790\n",
            "[10,  6000] loss: 0.808\n",
            "[10,  8000] loss: 0.812\n",
            "[10, 10000] loss: 0.846\n",
            "[10, 12000] loss: 0.852\n",
            "[11,  2000] loss: 0.730\n",
            "[11,  4000] loss: 0.763\n",
            "[11,  6000] loss: 0.803\n",
            "[11,  8000] loss: 0.776\n",
            "[11, 10000] loss: 0.801\n",
            "[11, 12000] loss: 0.801\n",
            "[12,  2000] loss: 0.709\n",
            "[12,  4000] loss: 0.749\n",
            "[12,  6000] loss: 0.743\n",
            "[12,  8000] loss: 0.772\n",
            "[12, 10000] loss: 0.775\n",
            "[12, 12000] loss: 0.788\n",
            "[13,  2000] loss: 0.680\n",
            "[13,  4000] loss: 0.716\n",
            "[13,  6000] loss: 0.743\n",
            "[13,  8000] loss: 0.737\n",
            "[13, 10000] loss: 0.782\n",
            "[13, 12000] loss: 0.778\n",
            "[14,  2000] loss: 0.646\n",
            "[14,  4000] loss: 0.689\n",
            "[14,  6000] loss: 0.722\n",
            "[14,  8000] loss: 0.735\n",
            "[14, 10000] loss: 0.753\n",
            "[14, 12000] loss: 0.750\n",
            "[15,  2000] loss: 0.631\n",
            "[15,  4000] loss: 0.687\n",
            "[15,  6000] loss: 0.702\n",
            "[15,  8000] loss: 0.699\n",
            "[15, 10000] loss: 0.729\n",
            "[15, 12000] loss: 0.759\n",
            "[16,  2000] loss: 0.619\n",
            "[16,  4000] loss: 0.650\n",
            "[16,  6000] loss: 0.698\n",
            "[16,  8000] loss: 0.707\n",
            "[16, 10000] loss: 0.717\n",
            "[16, 12000] loss: 0.745\n",
            "[17,  2000] loss: 0.607\n",
            "[17,  4000] loss: 0.637\n",
            "[17,  6000] loss: 0.681\n",
            "[17,  8000] loss: 0.695\n",
            "[17, 10000] loss: 0.701\n",
            "[17, 12000] loss: 0.715\n",
            "[18,  2000] loss: 0.590\n",
            "[18,  4000] loss: 0.625\n",
            "[18,  6000] loss: 0.651\n",
            "[18,  8000] loss: 0.685\n",
            "[18, 10000] loss: 0.700\n",
            "[18, 12000] loss: 0.702\n",
            "[19,  2000] loss: 0.577\n",
            "[19,  4000] loss: 0.627\n",
            "[19,  6000] loss: 0.642\n",
            "[19,  8000] loss: 0.662\n",
            "[19, 10000] loss: 0.692\n",
            "[19, 12000] loss: 0.683\n",
            "[20,  2000] loss: 0.568\n",
            "[20,  4000] loss: 0.600\n",
            "[20,  6000] loss: 0.669\n",
            "[20,  8000] loss: 0.648\n",
            "[20, 10000] loss: 0.700\n",
            "[20, 12000] loss: 0.685\n",
            "Finished Training\n"
          ]
        }
      ],
      "source": [
        "for epoch in range(20):   # 데이터셋을 수차례 반복합니다.\n",
        "\n",
        "    running_loss = 0.0\n",
        "    for i, data in enumerate(trainloader, 0):\n",
        "        # [inputs, labels]의 목록인 data로부터 입력을 받은 후;\n",
        "        inputs, labels = data\n",
        "\n",
        "        # 변화도(Gradient) 매개변수를 0으로 만들고\n",
        "        optimizer.zero_grad() # back pro에 필요\n",
        "\n",
        "        # 순전파 + 역전파 + 최적화를 한 후\n",
        "        outputs = net(inputs)\n",
        "        loss = criterion(outputs, labels)\n",
        "        loss.backward() # back pro에 필요\n",
        "        optimizer.step() # back pro에 필요\n",
        "\n",
        "        # 통계를 출력합니다.\n",
        "        running_loss += loss.item()\n",
        "        if i % 2000 == 1999:    # print every 2000 mini-batches\n",
        "            print(f'[{epoch + 1}, {i + 1:5d}] loss: {running_loss / 2000:.3f}')\n",
        "            running_loss = 0.0\n",
        "\n",
        "print('Finished Training')"
      ]
    },
    {
      "cell_type": "markdown",
      "metadata": {
        "id": "_7B9xrHZne5f"
      },
      "source": [
        "학습한 모델을 저장해보자:\n",
        "\n"
      ]
    },
    {
      "cell_type": "code",
      "execution_count": null,
      "metadata": {
        "id": "Ec0__av7ne5f"
      },
      "outputs": [],
      "source": [
        "PATH = './cifar_net.pth'\n",
        "torch.save(net.state_dict(), PATH)"
      ]
    },
    {
      "cell_type": "markdown",
      "source": [
        "PyTorch 모델을 저장하는 자세한 방법은 [여기](<https://pytorch.org/docs/stable/notes/serialization.html>)\n",
        "를 참조하라."
      ],
      "metadata": {
        "id": "jP3nqWaY88n3"
      }
    },
    {
      "cell_type": "markdown",
      "metadata": {
        "id": "fLrl9l49ne5g"
      },
      "source": [
        "## 시험용 데이터로 신경망 검사하기\n",
        "\n",
        "지금까지 학습용 데이터셋을 2회 반복하며 신경망을 학습시켰다.\n",
        "신경망이 전혀 배운게 없을지도 모르니 확인해보자.\n",
        "\n",
        "신경망이 예측한 출력과 진짜 정답(Ground-truth)을 비교하는 방식으로 확인한다.\n",
        "만약 예측이 맞다면 샘플을 '맞은 예측값(correct predictions)' 목록에 넣는다.\n",
        "\n",
        "첫번째로 시험용 데이터를 살펴보자.\n",
        "\n"
      ]
    },
    {
      "cell_type": "code",
      "execution_count": null,
      "metadata": {
        "id": "7Ltr2knnne5g",
        "colab": {
          "base_uri": "https://localhost:8080/",
          "height": 212
        },
        "outputId": "399d1cec-af4e-42ae-fef7-76c9b71e9c39"
      },
      "outputs": [
        {
          "output_type": "display_data",
          "data": {
            "text/plain": [
              "<Figure size 640x480 with 1 Axes>"
            ],
            "image/png": "[encoded data removed]"
          },
          "metadata": {}
        },
        {
          "output_type": "stream",
          "name": "stdout",
          "text": [
            "GroundTruth:  cat   ship  ship  plane\n"
          ]
        }
      ],
      "source": [
        "dataiter = iter(testloader)\n",
        "images, labels = dataiter.__next__()\n",
        "\n",
        "# 이미지를 출력합니다.\n",
        "imshow(torchvision.utils.make_grid(images))\n",
        "print('GroundTruth: ', ' '.join(f'{classes[labels[j]]:5s}' for j in range(4)))"
      ]
    },
    {
      "cell_type": "markdown",
      "metadata": {
        "id": "DgPPIoj0ne5h"
      },
      "source": [
        "이제, 저장했던 모델을 불러온다 (주: 모델을 저장하고 다시 불러오는\n",
        "작업은 여기에서는 불필요하지만, 어떻게 하는지 설명을 위해 이렇게 해보자):\n",
        "\n"
      ]
    },
    {
      "cell_type": "code",
      "execution_count": null,
      "metadata": {
        "id": "nOrIB1FXne5h",
        "colab": {
          "base_uri": "https://localhost:8080/"
        },
        "outputId": "2e540e24-7e8d-46c2-bfda-044165600e02"
      },
      "outputs": [
        {
          "output_type": "execute_result",
          "data": {
            "text/plain": [
              "<All keys matched successfully>"
            ]
          },
          "metadata": {},
          "execution_count": 19
        }
      ],
      "source": [
        "net = Net()\n",
        "net.load_state_dict(torch.load(PATH))"
      ]
    },
    {
      "cell_type": "markdown",
      "metadata": {
        "id": "5_9D13TPne5i"
      },
      "source": [
        " 이제 이 예제들을 신경망이 어떻게 예측했는지를 보자:\n",
        "\n"
      ]
    },
    {
      "cell_type": "code",
      "execution_count": null,
      "metadata": {
        "id": "7FJAmjsDne5i"
      },
      "outputs": [],
      "source": [
        "outputs = net(images)"
      ]
    },
    {
      "cell_type": "markdown",
      "metadata": {
        "id": "LmZh2km1ne5i"
      },
      "source": [
        "출력은 10개 분류 각각에 대한 값으로 나타난다. 어떤 분류에 대해서 더 높은 값이\n",
        "나타난다는 것은, 신경망이 그 이미지가 해당 분류에 더 가깝다고 생각한다는 것이다.\n",
        "따라서, 가장 높은 값을 갖는 인덱스(index)를 뽑아보자:\n",
        "\n"
      ]
    },
    {
      "cell_type": "code",
      "execution_count": null,
      "metadata": {
        "id": "vmteRC-one5j",
        "colab": {
          "base_uri": "https://localhost:8080/"
        },
        "outputId": "f792b274-5463-4c5d-a5a9-f29efb754da9"
      },
      "outputs": [
        {
          "output_type": "stream",
          "name": "stdout",
          "text": [
            "Predicted:  cat   ship  plane plane\n"
          ]
        }
      ],
      "source": [
        "_, predicted = torch.max(outputs, 1)     # Returns a namedtuple (values, indices)\n",
        "\n",
        "print('Predicted: ', ' '.join(f'{classes[predicted[j]]:5s}'\n",
        "                              for j in range(4)))"
      ]
    },
    {
      "cell_type": "markdown",
      "metadata": {
        "id": "bf3Xs5HSne5j"
      },
      "source": [
        "이제 전체 데이터셋에 대해서는 어떻게 동작하는지 보자.\n",
        "\n"
      ]
    },
    {
      "cell_type": "code",
      "execution_count": null,
      "metadata": {
        "id": "nVteK_Jfne5j",
        "colab": {
          "base_uri": "https://localhost:8080/"
        },
        "outputId": "052300d7-e4fc-4714-d86c-5211960b36d8"
      },
      "outputs": [
        {
          "output_type": "stream",
          "name": "stdout",
          "text": [
            "Accuracy of the network on the 10000 test images: 62 %\n"
          ]
        }
      ],
      "source": [
        "correct = 0\n",
        "total = 0\n",
        "# 학습 중이 아니므로, 출력에 대한 변화도를 계산할 필요가 없습니다\n",
        "with torch.no_grad():\n",
        "    for data in testloader:\n",
        "        images, labels = data\n",
        "        # 신경망에 이미지를 통과시켜 출력을 계산합니다\n",
        "        outputs = net(images)\n",
        "        # 가장 높은 값(energy)를 갖는 분류(class)를 정답으로 선택하겠습니다\n",
        "        _, predicted = torch.max(outputs.data, 1)\n",
        "        total += labels.size(0)\n",
        "        correct += (predicted == labels).sum().item()\n",
        "\n",
        "print(f'Accuracy of the network on the 10000 test images: {100 * correct // total} %')"
      ]
    },
    {
      "cell_type": "markdown",
      "metadata": {
        "id": "UDOlGuWsne5k"
      },
      "source": [
        "(10가지 분류 중에 하나를 무작위로) 찍었을 때의 정확도인 10% 보다는 나아보인다.\n",
        "\n",
        "그럼 어떤 것들을 더 잘 분류하고, 어떤 것들을 더 못했는지 알아보자:\n",
        "\n"
      ]
    },
    {
      "cell_type": "code",
      "execution_count": null,
      "metadata": {
        "id": "Yac1I_f6ne5k",
        "colab": {
          "base_uri": "https://localhost:8080/"
        },
        "outputId": "7316c6a5-4872-4a10-af1c-350a14cff6e2"
      },
      "outputs": [
        {
          "output_type": "stream",
          "name": "stdout",
          "text": [
            "Accuracy for class: plane is 71.5 %\n",
            "Accuracy for class: car   is 73.6 %\n",
            "Accuracy for class: bird  is 44.7 %\n",
            "Accuracy for class: cat   is 46.7 %\n",
            "Accuracy for class: deer  is 50.4 %\n",
            "Accuracy for class: dog   is 49.6 %\n",
            "Accuracy for class: frog  is 67.3 %\n",
            "Accuracy for class: horse is 70.1 %\n",
            "Accuracy for class: ship  is 72.4 %\n",
            "Accuracy for class: truck is 73.9 %\n"
          ]
        }
      ],
      "source": [
        "# 각 분류(class)에 대한 예측값 계산을 위해 준비\n",
        "correct_pred = {classname: 0 for classname in classes}\n",
        "total_pred = {classname: 0 for classname in classes}\n",
        "\n",
        "# 변화도는 여전히 필요하지 않습니다\n",
        "with torch.no_grad():\n",
        "    for data in testloader:\n",
        "        images, labels = data\n",
        "        outputs = net(images)\n",
        "        _, predictions = torch.max(outputs, 1)\n",
        "        # 각 분류별로 올바른 예측 수를 모읍니다\n",
        "        for label, prediction in zip(labels, predictions): # 아래 코드는 뭐지?\n",
        "            if label == prediction:\n",
        "                correct_pred[classes[label]] += 1\n",
        "            total_pred[classes[label]] += 1\n",
        "\n",
        "\n",
        "# 각 분류별 정확도(accuracy)를 출력합니다\n",
        "for classname, correct_count in correct_pred.items():\n",
        "    accuracy = 100 * float(correct_count) / total_pred[classname]\n",
        "    print(f'Accuracy for class: {classname:5s} is {accuracy:.1f} %')"
      ]
    },
    {
      "cell_type": "markdown",
      "metadata": {
        "id": "b2Mfq8ZWne5k"
      },
      "source": [
        "## GPU에서 학습하기\n",
        "\n",
        "Tensor를 GPU로 이동했던 것처럼, 신경망 또한 GPU로 옮길 수 있다.\n",
        "먼저 (CUDA를 사용할 수 있다면) 첫번째 CUDA 장치를 사용하도록 설정한다:\n",
        "\n"
      ]
    },
    {
      "cell_type": "code",
      "execution_count": null,
      "metadata": {
        "id": "QjKbnPb0ne5l",
        "colab": {
          "base_uri": "https://localhost:8080/"
        },
        "outputId": "a1765cdc-6456-4a50-b09d-9f983a4ea129"
      },
      "outputs": [
        {
          "output_type": "stream",
          "name": "stdout",
          "text": [
            "cpu\n"
          ]
        }
      ],
      "source": [
        "device = torch.device('cuda:0' if torch.cuda.is_available() else 'cpu')\n",
        "\n",
        "# CUDA 기기가 존재한다면, 아래 코드가 CUDA 장치를 출력합니다:\n",
        "\n",
        "print(device)"
      ]
    },
    {
      "cell_type": "markdown",
      "metadata": {
        "id": "RfyPYCahne5l"
      },
      "source": [
        "이 섹션의 나머지 부분에서는 ``device`` 를 CUDA 장치라고 가정하겠다.\n",
        "\n",
        "그리고 이 메소드(Method)들은 재귀적으로 모든 모듈의 매개변수와 버퍼를\n",
        "CUDA tensor로 변경한다:\n",
        "\n",
        "        net.to(device)\n",
        "\n",
        "\n",
        "또한, 각 단계에서 입력(input)과 정답(target)도 GPU로 보내야 한다는 것도 기억해야\n",
        "한다:\n",
        "\n",
        "        inputs, labels = data[0].to(device), data[1].to(device)\n",
        "\n",
        "CPU와 비교했을 때 큰 속도 차이가 나지 않는 것은 왜일까?\n",
        "이유는 바로 신경망이 너무 작기 때문이다.\n"
      ]
    },
    {
      "cell_type": "markdown",
      "source": [
        "**연습:** 신경망의 크기를 키워보고, 얼마나 빨라지는지 확인해보라.\n",
        "(첫번째 ``nn.Conv2d``의 2번째 인자와 두번째 ``nn.Conv2d``의 1번째 인자는\n",
        "같은 숫자여야 한다.)"
      ],
      "metadata": {
        "id": "W-V2fOEB-N_c"
      }
    },
    {
      "cell_type": "markdown",
      "source": [
        "\n",
        "## 여러 개의 GPU에서 학습하기\n",
        "\n",
        "모든 GPU를 활용해서 더욱 더 속도를 올리고 싶다면, [문서](https://pytorch.org/tutorials/beginner/blitz/data_parallel_tutorial.html)를 참고하라."
      ],
      "metadata": {
        "id": "LVuOKUmu-YqL"
      }
    }
  ],
  "metadata": {
    "kernelspec": {
      "display_name": "Python 3",
      "language": "python",
      "name": "python3"
    },
    "language_info": {
      "codemirror_mode": {
        "name": "ipython",
        "version": 3
      },
      "file_extension": ".py",
      "mimetype": "text/x-python",
      "name": "python",
      "nbconvert_exporter": "python",
      "pygments_lexer": "ipython3",
      "version": "3.9.13"
    },
    "colab": {
      "provenance": []
    }
  },
  "nbformat": 4,
  "nbformat_minor": 0
}